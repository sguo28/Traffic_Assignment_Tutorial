{
 "cells": [
  {
   "cell_type": "markdown",
   "id": "impossible-remedy",
   "metadata": {},
   "source": [
    "# Traffic assignment (MSA)\n",
    "\n",
    "Components:\n",
    "1. Network\n",
    "2. Network loading function \n",
    "3. Cost function\n",
    "4. Assignment step\n",
    "5. Check covergence.\n",
    "\n",
    "Method covered:\n",
    "1. MSA\n",
    "2. FW with biseciton\n",
    "3. FW with newton's method\n",
    "\n",
    "\n",
    "Useful link:\n",
    "https://github.com/bstabler/TransportationNetworks"
   ]
  },
  {
   "cell_type": "code",
   "execution_count": 1,
   "id": "swiss-scratch",
   "metadata": {
    "execution": {
     "iopub.execute_input": "2021-10-26T17:03:43.783579Z",
     "iopub.status.busy": "2021-10-26T17:03:43.783370Z",
     "iopub.status.idle": "2021-10-26T17:03:44.746498Z",
     "shell.execute_reply": "2021-10-26T17:03:44.746043Z",
     "shell.execute_reply.started": "2021-10-26T17:03:43.783561Z"
    }
   },
   "outputs": [],
   "source": [
    "import numpy as np\n",
    "import pandas as pd\n",
    "import time\n",
    "import networkx as nx\n",
    "import matplotlib.pyplot as plt"
   ]
  },
  {
   "cell_type": "code",
   "execution_count": 2,
   "metadata": {
    "collapsed": false
   },
   "outputs": [],
   "source": [
    "### next check the SiouxFalls\n",
    "instance_name = \"SiouxFalls\""
   ]
  },
  {
   "cell_type": "code",
   "execution_count": 3,
   "id": "incorrect-prevention",
   "metadata": {
    "execution": {
     "iopub.execute_input": "2021-10-26T17:03:45.080880Z",
     "iopub.status.busy": "2021-10-26T17:03:45.080701Z",
     "iopub.status.idle": "2021-10-26T17:03:45.093413Z",
     "shell.execute_reply": "2021-10-26T17:03:45.092633Z",
     "shell.execute_reply.started": "2021-10-26T17:03:45.080862Z"
    }
   },
   "outputs": [],
   "source": [
    "node_attr = f'network_data/{instance_name}/SiouxFalls_node.tntp'\n",
    "\n",
    "node_attr = pd.read_csv(node_attr, skiprows=1, sep='\\t', header=None, names=[\"Node\",\"X\",\"Y\",\";\"])\n",
    "\n",
    "node_attr = node_attr.drop(columns=[\";\"])\n",
    "\n",
    "node_attr.head()\n",
    "\n",
    "node_attr.to_csv(f'network_data/{instance_name}/network_node.csv', index=False)"
   ]
  },
  {
   "cell_type": "code",
   "execution_count": 4,
   "metadata": {
    "collapsed": false
   },
   "outputs": [],
   "source": [
    "filepath = f'network_data/{instance_name}/SiouxFalls_net.tntp'"
   ]
  },
  {
   "cell_type": "code",
   "execution_count": 5,
   "metadata": {
    "collapsed": false
   },
   "outputs": [
    {
     "data": {
      "text/html": [
       "<div>\n",
       "<style scoped>\n",
       "    .dataframe tbody tr th:only-of-type {\n",
       "        vertical-align: middle;\n",
       "    }\n",
       "\n",
       "    .dataframe tbody tr th {\n",
       "        vertical-align: top;\n",
       "    }\n",
       "\n",
       "    .dataframe thead th {\n",
       "        text-align: right;\n",
       "    }\n",
       "</style>\n",
       "<table border=\"1\" class=\"dataframe\">\n",
       "  <thead>\n",
       "    <tr style=\"text-align: right;\">\n",
       "      <th></th>\n",
       "      <th>init_node</th>\n",
       "      <th>term_node</th>\n",
       "      <th>capacity</th>\n",
       "      <th>length</th>\n",
       "      <th>free_flow_time</th>\n",
       "      <th>b</th>\n",
       "      <th>power</th>\n",
       "      <th>speed</th>\n",
       "      <th>toll</th>\n",
       "      <th>link_type</th>\n",
       "    </tr>\n",
       "  </thead>\n",
       "  <tbody>\n",
       "    <tr>\n",
       "      <th>0</th>\n",
       "      <td>1</td>\n",
       "      <td>2</td>\n",
       "      <td>25900.200640</td>\n",
       "      <td>6</td>\n",
       "      <td>6</td>\n",
       "      <td>0.15</td>\n",
       "      <td>4</td>\n",
       "      <td>0</td>\n",
       "      <td>0</td>\n",
       "      <td>1</td>\n",
       "    </tr>\n",
       "    <tr>\n",
       "      <th>1</th>\n",
       "      <td>1</td>\n",
       "      <td>3</td>\n",
       "      <td>23403.473190</td>\n",
       "      <td>4</td>\n",
       "      <td>4</td>\n",
       "      <td>0.15</td>\n",
       "      <td>4</td>\n",
       "      <td>0</td>\n",
       "      <td>0</td>\n",
       "      <td>1</td>\n",
       "    </tr>\n",
       "    <tr>\n",
       "      <th>2</th>\n",
       "      <td>2</td>\n",
       "      <td>1</td>\n",
       "      <td>25900.200640</td>\n",
       "      <td>6</td>\n",
       "      <td>6</td>\n",
       "      <td>0.15</td>\n",
       "      <td>4</td>\n",
       "      <td>0</td>\n",
       "      <td>0</td>\n",
       "      <td>1</td>\n",
       "    </tr>\n",
       "    <tr>\n",
       "      <th>3</th>\n",
       "      <td>2</td>\n",
       "      <td>6</td>\n",
       "      <td>4958.180928</td>\n",
       "      <td>5</td>\n",
       "      <td>5</td>\n",
       "      <td>0.15</td>\n",
       "      <td>4</td>\n",
       "      <td>0</td>\n",
       "      <td>0</td>\n",
       "      <td>1</td>\n",
       "    </tr>\n",
       "    <tr>\n",
       "      <th>4</th>\n",
       "      <td>3</td>\n",
       "      <td>1</td>\n",
       "      <td>23403.473190</td>\n",
       "      <td>4</td>\n",
       "      <td>4</td>\n",
       "      <td>0.15</td>\n",
       "      <td>4</td>\n",
       "      <td>0</td>\n",
       "      <td>0</td>\n",
       "      <td>1</td>\n",
       "    </tr>\n",
       "    <tr>\n",
       "      <th>...</th>\n",
       "      <td>...</td>\n",
       "      <td>...</td>\n",
       "      <td>...</td>\n",
       "      <td>...</td>\n",
       "      <td>...</td>\n",
       "      <td>...</td>\n",
       "      <td>...</td>\n",
       "      <td>...</td>\n",
       "      <td>...</td>\n",
       "      <td>...</td>\n",
       "    </tr>\n",
       "    <tr>\n",
       "      <th>71</th>\n",
       "      <td>23</td>\n",
       "      <td>22</td>\n",
       "      <td>5000.000000</td>\n",
       "      <td>4</td>\n",
       "      <td>4</td>\n",
       "      <td>0.15</td>\n",
       "      <td>4</td>\n",
       "      <td>0</td>\n",
       "      <td>0</td>\n",
       "      <td>1</td>\n",
       "    </tr>\n",
       "    <tr>\n",
       "      <th>72</th>\n",
       "      <td>23</td>\n",
       "      <td>24</td>\n",
       "      <td>5078.508436</td>\n",
       "      <td>2</td>\n",
       "      <td>2</td>\n",
       "      <td>0.15</td>\n",
       "      <td>4</td>\n",
       "      <td>0</td>\n",
       "      <td>0</td>\n",
       "      <td>1</td>\n",
       "    </tr>\n",
       "    <tr>\n",
       "      <th>73</th>\n",
       "      <td>24</td>\n",
       "      <td>13</td>\n",
       "      <td>5091.256152</td>\n",
       "      <td>4</td>\n",
       "      <td>4</td>\n",
       "      <td>0.15</td>\n",
       "      <td>4</td>\n",
       "      <td>0</td>\n",
       "      <td>0</td>\n",
       "      <td>1</td>\n",
       "    </tr>\n",
       "    <tr>\n",
       "      <th>74</th>\n",
       "      <td>24</td>\n",
       "      <td>21</td>\n",
       "      <td>4885.357564</td>\n",
       "      <td>3</td>\n",
       "      <td>3</td>\n",
       "      <td>0.15</td>\n",
       "      <td>4</td>\n",
       "      <td>0</td>\n",
       "      <td>0</td>\n",
       "      <td>1</td>\n",
       "    </tr>\n",
       "    <tr>\n",
       "      <th>75</th>\n",
       "      <td>24</td>\n",
       "      <td>23</td>\n",
       "      <td>5078.508436</td>\n",
       "      <td>2</td>\n",
       "      <td>2</td>\n",
       "      <td>0.15</td>\n",
       "      <td>4</td>\n",
       "      <td>0</td>\n",
       "      <td>0</td>\n",
       "      <td>1</td>\n",
       "    </tr>\n",
       "  </tbody>\n",
       "</table>\n",
       "<p>76 rows × 10 columns</p>\n",
       "</div>"
      ],
      "text/plain": [
       "    init_node  term_node      capacity  length  free_flow_time     b  power  \\\n",
       "0           1          2  25900.200640       6               6  0.15      4   \n",
       "1           1          3  23403.473190       4               4  0.15      4   \n",
       "2           2          1  25900.200640       6               6  0.15      4   \n",
       "3           2          6   4958.180928       5               5  0.15      4   \n",
       "4           3          1  23403.473190       4               4  0.15      4   \n",
       "..        ...        ...           ...     ...             ...   ...    ...   \n",
       "71         23         22   5000.000000       4               4  0.15      4   \n",
       "72         23         24   5078.508436       2               2  0.15      4   \n",
       "73         24         13   5091.256152       4               4  0.15      4   \n",
       "74         24         21   4885.357564       3               3  0.15      4   \n",
       "75         24         23   5078.508436       2               2  0.15      4   \n",
       "\n",
       "    speed  toll  link_type  \n",
       "0       0     0          1  \n",
       "1       0     0          1  \n",
       "2       0     0          1  \n",
       "3       0     0          1  \n",
       "4       0     0          1  \n",
       "..    ...   ...        ...  \n",
       "71      0     0          1  \n",
       "72      0     0          1  \n",
       "73      0     0          1  \n",
       "74      0     0          1  \n",
       "75      0     0          1  \n",
       "\n",
       "[76 rows x 10 columns]"
      ]
     },
     "execution_count": 5,
     "metadata": {},
     "output_type": "execute_result"
    }
   ],
   "source": [
    "net = pd.read_csv(filepath, skiprows=8, sep='\\t')\n",
    "# drop columns named \"~\", \";\"\n",
    "net = net.drop(columns=[\"~\", \";\"])\n",
    "\n",
    "net"
   ]
  },
  {
   "cell_type": "code",
   "execution_count": 6,
   "metadata": {
    "collapsed": false
   },
   "outputs": [],
   "source": [
    "net[\"Edge\"] = net.index\n",
    "net1 = net[[\"Edge\",\"init_node\",\"term_node\",\"free_flow_time\",\"capacity\",\"b\",\"power\"]]"
   ]
  },
  {
   "cell_type": "code",
   "execution_count": 7,
   "metadata": {
    "collapsed": false
   },
   "outputs": [],
   "source": [
    "# column names are: Edge,Node_F,Node_T,FFTT,Capacity,Beta,Alpha\n",
    "net1.columns = [\"Edge\",\"Node_F\",\"Node_T\",\"FFTT\",\"Capacity\",\"Beta\",\"Alpha\"]"
   ]
  },
  {
   "cell_type": "code",
   "execution_count": 8,
   "metadata": {
    "collapsed": false
   },
   "outputs": [],
   "source": [
    "net1.to_csv(f'network_data/{instance_name}/network_net.csv', index=False)"
   ]
  },
  {
   "cell_type": "code",
   "execution_count": 9,
   "metadata": {
    "collapsed": false
   },
   "outputs": [
    {
     "data": {
      "text/html": [
       "<div>\n",
       "<style scoped>\n",
       "    .dataframe tbody tr th:only-of-type {\n",
       "        vertical-align: middle;\n",
       "    }\n",
       "\n",
       "    .dataframe tbody tr th {\n",
       "        vertical-align: top;\n",
       "    }\n",
       "\n",
       "    .dataframe thead th {\n",
       "        text-align: right;\n",
       "    }\n",
       "</style>\n",
       "<table border=\"1\" class=\"dataframe\">\n",
       "  <thead>\n",
       "    <tr style=\"text-align: right;\">\n",
       "      <th></th>\n",
       "      <th>O</th>\n",
       "      <th>D</th>\n",
       "      <th>Ton</th>\n",
       "    </tr>\n",
       "  </thead>\n",
       "  <tbody>\n",
       "    <tr>\n",
       "      <th>0</th>\n",
       "      <td>2</td>\n",
       "      <td>1</td>\n",
       "      <td>100.0</td>\n",
       "    </tr>\n",
       "    <tr>\n",
       "      <th>1</th>\n",
       "      <td>3</td>\n",
       "      <td>1</td>\n",
       "      <td>100.0</td>\n",
       "    </tr>\n",
       "    <tr>\n",
       "      <th>2</th>\n",
       "      <td>4</td>\n",
       "      <td>1</td>\n",
       "      <td>500.0</td>\n",
       "    </tr>\n",
       "    <tr>\n",
       "      <th>3</th>\n",
       "      <td>5</td>\n",
       "      <td>1</td>\n",
       "      <td>200.0</td>\n",
       "    </tr>\n",
       "    <tr>\n",
       "      <th>4</th>\n",
       "      <td>6</td>\n",
       "      <td>1</td>\n",
       "      <td>300.0</td>\n",
       "    </tr>\n",
       "    <tr>\n",
       "      <th>...</th>\n",
       "      <td>...</td>\n",
       "      <td>...</td>\n",
       "      <td>...</td>\n",
       "    </tr>\n",
       "    <tr>\n",
       "      <th>523</th>\n",
       "      <td>19</td>\n",
       "      <td>24</td>\n",
       "      <td>100.0</td>\n",
       "    </tr>\n",
       "    <tr>\n",
       "      <th>524</th>\n",
       "      <td>20</td>\n",
       "      <td>24</td>\n",
       "      <td>400.0</td>\n",
       "    </tr>\n",
       "    <tr>\n",
       "      <th>525</th>\n",
       "      <td>21</td>\n",
       "      <td>24</td>\n",
       "      <td>500.0</td>\n",
       "    </tr>\n",
       "    <tr>\n",
       "      <th>526</th>\n",
       "      <td>22</td>\n",
       "      <td>24</td>\n",
       "      <td>1100.0</td>\n",
       "    </tr>\n",
       "    <tr>\n",
       "      <th>527</th>\n",
       "      <td>23</td>\n",
       "      <td>24</td>\n",
       "      <td>700.0</td>\n",
       "    </tr>\n",
       "  </tbody>\n",
       "</table>\n",
       "<p>528 rows × 3 columns</p>\n",
       "</div>"
      ],
      "text/plain": [
       "      O   D     Ton\n",
       "0     2   1   100.0\n",
       "1     3   1   100.0\n",
       "2     4   1   500.0\n",
       "3     5   1   200.0\n",
       "4     6   1   300.0\n",
       "..   ..  ..     ...\n",
       "523  19  24   100.0\n",
       "524  20  24   400.0\n",
       "525  21  24   500.0\n",
       "526  22  24  1100.0\n",
       "527  23  24   700.0\n",
       "\n",
       "[528 rows x 3 columns]"
      ]
     },
     "execution_count": 9,
     "metadata": {},
     "output_type": "execute_result"
    }
   ],
   "source": [
    "od = pd.read_csv(f'network_data/{instance_name}/SiouxFalls_od.csv')\n",
    "od.to_csv(f'network_data/{instance_name}/network_od0.csv', index=False)\n",
    "od"
   ]
  },
  {
   "cell_type": "code",
   "execution_count": 11,
   "metadata": {
    "collapsed": false
   },
   "outputs": [
    {
     "data": {
      "text/html": [
       "<div>\n",
       "<style scoped>\n",
       "    .dataframe tbody tr th:only-of-type {\n",
       "        vertical-align: middle;\n",
       "    }\n",
       "\n",
       "    .dataframe tbody tr th {\n",
       "        vertical-align: top;\n",
       "    }\n",
       "\n",
       "    .dataframe thead th {\n",
       "        text-align: right;\n",
       "    }\n",
       "</style>\n",
       "<table border=\"1\" class=\"dataframe\">\n",
       "  <thead>\n",
       "    <tr style=\"text-align: right;\">\n",
       "      <th></th>\n",
       "      <th>init_node</th>\n",
       "      <th>term_node</th>\n",
       "      <th>flow</th>\n",
       "      <th>cost</th>\n",
       "    </tr>\n",
       "  </thead>\n",
       "  <tbody>\n",
       "    <tr>\n",
       "      <th>0</th>\n",
       "      <td>1</td>\n",
       "      <td>2</td>\n",
       "      <td>4494.657646</td>\n",
       "      <td>6.000816</td>\n",
       "    </tr>\n",
       "    <tr>\n",
       "      <th>1</th>\n",
       "      <td>1</td>\n",
       "      <td>3</td>\n",
       "      <td>8119.079948</td>\n",
       "      <td>4.008691</td>\n",
       "    </tr>\n",
       "    <tr>\n",
       "      <th>2</th>\n",
       "      <td>2</td>\n",
       "      <td>1</td>\n",
       "      <td>4519.079948</td>\n",
       "      <td>6.000834</td>\n",
       "    </tr>\n",
       "    <tr>\n",
       "      <th>3</th>\n",
       "      <td>2</td>\n",
       "      <td>6</td>\n",
       "      <td>5967.336396</td>\n",
       "      <td>6.573598</td>\n",
       "    </tr>\n",
       "    <tr>\n",
       "      <th>4</th>\n",
       "      <td>3</td>\n",
       "      <td>1</td>\n",
       "      <td>8094.657646</td>\n",
       "      <td>4.008587</td>\n",
       "    </tr>\n",
       "    <tr>\n",
       "      <th>...</th>\n",
       "      <td>...</td>\n",
       "      <td>...</td>\n",
       "      <td>...</td>\n",
       "      <td>...</td>\n",
       "    </tr>\n",
       "    <tr>\n",
       "      <th>71</th>\n",
       "      <td>23</td>\n",
       "      <td>22</td>\n",
       "      <td>9626.210200</td>\n",
       "      <td>12.243138</td>\n",
       "    </tr>\n",
       "    <tr>\n",
       "      <th>72</th>\n",
       "      <td>23</td>\n",
       "      <td>24</td>\n",
       "      <td>7902.983927</td>\n",
       "      <td>3.759304</td>\n",
       "    </tr>\n",
       "    <tr>\n",
       "      <th>73</th>\n",
       "      <td>24</td>\n",
       "      <td>13</td>\n",
       "      <td>11112.394731</td>\n",
       "      <td>17.617021</td>\n",
       "    </tr>\n",
       "    <tr>\n",
       "      <th>74</th>\n",
       "      <td>24</td>\n",
       "      <td>21</td>\n",
       "      <td>10259.524716</td>\n",
       "      <td>11.752579</td>\n",
       "    </tr>\n",
       "    <tr>\n",
       "      <th>75</th>\n",
       "      <td>24</td>\n",
       "      <td>23</td>\n",
       "      <td>7861.833244</td>\n",
       "      <td>3.722947</td>\n",
       "    </tr>\n",
       "  </tbody>\n",
       "</table>\n",
       "<p>76 rows × 4 columns</p>\n",
       "</div>"
      ],
      "text/plain": [
       "    init_node  term_node          flow       cost\n",
       "0           1          2   4494.657646   6.000816\n",
       "1           1          3   8119.079948   4.008691\n",
       "2           2          1   4519.079948   6.000834\n",
       "3           2          6   5967.336396   6.573598\n",
       "4           3          1   8094.657646   4.008587\n",
       "..        ...        ...           ...        ...\n",
       "71         23         22   9626.210200  12.243138\n",
       "72         23         24   7902.983927   3.759304\n",
       "73         24         13  11112.394731  17.617021\n",
       "74         24         21  10259.524716  11.752579\n",
       "75         24         23   7861.833244   3.722947\n",
       "\n",
       "[76 rows x 4 columns]"
      ]
     },
     "execution_count": 11,
     "metadata": {},
     "output_type": "execute_result"
    }
   ],
   "source": [
    "so_sol = pd.read_csv(f'network_data/{instance_name}/SiouxFalls_flow.tntp', skiprows=1, sep='\\t', header=None, names=[\"init_node\",\"term_node\",\"flow\",\"cost\"])\n",
    "\n",
    "so_sol"
   ]
  },
  {
   "cell_type": "code",
   "execution_count": 13,
   "metadata": {
    "collapsed": false
   },
   "outputs": [],
   "source": [
    "fftt = net[\"free_flow_time\"].to_numpy()\n",
    "capacity = net[\"capacity\"].to_numpy()\n",
    "beta = net[\"b\"].to_numpy()\n",
    "alpha = net[\"power\"].to_numpy()"
   ]
  },
  {
   "cell_type": "code",
   "execution_count": 19,
   "metadata": {
    "collapsed": false
   },
   "outputs": [],
   "source": [
    "# fftt*self.link_flow + capacity/(self.alpha+1)*self.fftt*self.beta*(self.link_flow/self.capacity)**(self.alpha+1)\n",
    "\n",
    "so_sol1 = fftt*so_sol[\"flow\"] + capacity/(alpha+1)*fftt*beta*(so_sol[\"flow\"]/capacity)**(alpha+1)"
   ]
  },
  {
   "cell_type": "code",
   "execution_count": 20,
   "metadata": {
    "collapsed": false
   },
   "outputs": [
    {
     "data": {
      "text/plain": [
       "4231335.28710744"
      ]
     },
     "execution_count": 20,
     "metadata": {},
     "output_type": "execute_result"
    }
   ],
   "source": [
    "so_sol1.sum()"
   ]
  },
  {
   "cell_type": "code",
   "execution_count": 23,
   "metadata": {
    "collapsed": false
   },
   "outputs": [],
   "source": [
    "ue_sol1 = fftt*ue[\"UE_flow\"] + capacity/(alpha+1)*fftt*beta*(ue[\"UE_flow\"]/capacity)**(alpha+1)"
   ]
  },
  {
   "cell_type": "code",
   "execution_count": 24,
   "metadata": {
    "collapsed": false
   },
   "outputs": [
    {
     "data": {
      "text/plain": [
       "4159408.538446357"
      ]
     },
     "execution_count": 24,
     "metadata": {},
     "output_type": "execute_result"
    }
   ],
   "source": [
    "ue_sol1.sum()"
   ]
  },
  {
   "cell_type": "code",
   "execution_count": null,
   "metadata": {
    "collapsed": false
   },
   "outputs": [],
   "source": [
    "ue"
   ]
  },
  {
   "cell_type": "code",
   "execution_count": null,
   "id": "passing-sensitivity",
   "metadata": {
    "execution": {
     "iopub.execute_input": "2021-10-26T17:03:46.511826Z",
     "iopub.status.busy": "2021-10-26T17:03:46.511617Z",
     "iopub.status.idle": "2021-10-26T17:03:46.516388Z",
     "shell.execute_reply": "2021-10-26T17:03:46.515312Z",
     "shell.execute_reply.started": "2021-10-26T17:03:46.511794Z"
    }
   },
   "outputs": [],
   "source": [
    "def create_network(file):\n",
    "    net=pd.read_csv(file)\n",
    "    G=nx.DiGraph()\n",
    "    beta=[]\n",
    "    alpha=[]\n",
    "    capacity=[]\n",
    "    fftt=[]\n",
    "    for _,row in net.iterrows(): #iterate over all rows\n",
    "        e,fn,tn,tt_,capacity_,beta_,alpha_=row #unpack your attributes\n",
    "        G.add_edge(fn,tn,travel_time=tt_,travel_flow=0)\n",
    "        beta.append(beta_);alpha.append(alpha_);fftt.append(tt_);capacity.append(capacity_)\n",
    "    return G,beta,alpha,capacity,fftt"
   ]
  },
  {
   "cell_type": "code",
   "execution_count": null,
   "id": "stainless-investor",
   "metadata": {
    "execution": {
     "iopub.execute_input": "2021-10-26T17:08:13.757722Z",
     "iopub.status.busy": "2021-10-26T17:08:13.757517Z",
     "iopub.status.idle": "2021-10-26T17:08:13.771705Z",
     "shell.execute_reply": "2021-10-26T17:08:13.770652Z",
     "shell.execute_reply.started": "2021-10-26T17:08:13.757703Z"
    }
   },
   "outputs": [],
   "source": [
    "#create graph\n",
    "class TA:\n",
    "    '''\n",
    "    The class defines the rule for link-based traffic assignment\n",
    "    '''\n",
    "    def __init__(self,graph,od,od_demand,beta,alpha,tt,capacity,eps=1e-3):\n",
    "        self.beta=beta\n",
    "        self.alpha=alpha\n",
    "        self.tt=tt\n",
    "        self.capacity=capacity\n",
    "        self.od=od\n",
    "        self.G=graph\n",
    "        self.nodes=G.nodes\n",
    "        self.edges=G.edges\n",
    "        self.od_demand=od_demand\n",
    "        self.link_time=np.zeros(len(self.edges))\n",
    "        self.link_flow=np.zeros(len(self.edges))\n",
    "        self.eps=eps #stopping criteria\n",
    "        self.iteration=0\n",
    "    \n",
    "    def update_travel_time(self):\n",
    "        self.link_time=self.tt*(1+self.beta*(self.link_flow/self.capacity)**self.alpha)\n",
    "        for e,tt in zip(self.G.edges,self.link_time):\n",
    "            self.G[e[0]][e[1]]['travel_time']=tt #update link travel time in the graph\n",
    "            \n",
    "    def update_link_flow(self,link_flow,theta=1):\n",
    "        TTST=sum(self.link_flow*self.link_time)\n",
    "        SPTT=sum(link_flow*self.link_time)\n",
    "        self.link_flow=(1-theta)*self.link_flow+theta*link_flow #convex combination\n",
    "        for e,f in zip(self.G.edges,self.link_flow):\n",
    "            self.G[e[0]][e[1]]['travel_flow']=f\n",
    "        gap=(TTST/SPTT-1)\n",
    "        return gap\n",
    "    \n",
    "    def compute_gradient(self,x1,x2,lbd):\n",
    "        '''\n",
    "        x1: the current link flow assignment\n",
    "        x2: the shortest path flow assignment\n",
    "        lbd: lambda ratio \n",
    "        '''\n",
    "        flow=(1-lbd)*x1+lbd*x2 \n",
    "        link_cost=(self.tt*(1+self.beta*(flow/self.capacity)**self.alpha))@(x2-x1)\n",
    "        return link_cost\n",
    "    \n",
    "    def bisection(self,x1,x2):\n",
    "        '''\n",
    "        Use bisection to find the optimal lambda value\n",
    "        x1: the current link flow assignment\n",
    "        x2: the shortest path flow assignments\n",
    "        we start with lbd=0 and 1 \n",
    "        '''\n",
    "        l=0;l_=1\n",
    "        n=0 #iteration\n",
    "        while abs(l_-l)>1e-1: #stopping criteria\n",
    "#             c1=self.compute_gradient(x1,x2,l)\n",
    "#             c2=self.compute_gradient(x1,x2,l_)\n",
    "            c=self.compute_gradient(x1,x2,(l+l_)/0.5)\n",
    "            if c>0:\n",
    "                l_=l+(l_-l)/2\n",
    "            else:\n",
    "                l=l+(l_-l)/2\n",
    "            n+=1\n",
    "        return (l+l_)/2,n\n",
    "                \n",
    "        \n",
    "    def step_FW(self):\n",
    "        if self.iteration==0:\n",
    "            self.link_flow=self.find_sp_flow()\n",
    "        \n",
    "        t1=time.time()\n",
    "        current_flow=self.link_flow\n",
    "        self.update_travel_time()\n",
    "        new_flow=self.find_sp_flow()\n",
    "        lbd,n=self.bisection(current_flow,new_flow)\n",
    "        print('Iteration={},lambda={},bisection iterations={}'.format(self.iteration,lbd,n))\n",
    "        gap=self.update_link_flow(new_flow,lbd)\n",
    "        cost=time.time()-t1\n",
    "        self.iteration+=1\n",
    "        return gap\n",
    "\n",
    "    def find_sp_flow(self):\n",
    "        sp=self.get_sp() #list of the shortest path for all od pairs\n",
    "        myflow=dict.fromkeys(self.edges,0)\n",
    "        for i in range(len(sp)): #go through all od pairs\n",
    "            for j in range(len(sp[i])-1): #go through all the links on each sp\n",
    "                    myflow[(sp[i][j],sp[i][j+1])]+=self.od_demand[i]\n",
    "        sp_link_flow=np.array(list(myflow.values()))\n",
    "        return sp_link_flow\n",
    "    \n",
    "    def step_MSA(self):\n",
    "        if self.iteration==0:\n",
    "            self.link_flow=self.find_sp_flow()\n",
    "        t1=time.time()\n",
    "        new_link_flow=self.find_sp_flow()\n",
    "        cost=time.time()-t1\n",
    "        t1=time.time()\n",
    "        gap=self.update_link_flow(new_link_flow,1/(self.iteration+1))\n",
    "        cost=time.time()-t1\n",
    "        self.iteration+=1\n",
    "        return gap\n",
    "    \n",
    "\n",
    "    def get_sp(self): #return shortest path of all od pairs\n",
    "        return [nx.dijkstra_path(self.G,self.od[i][0],self.od[i][1],weight='travel_time') for i in range(len(self.od))]\n",
    "    \n",
    "    def get_total_cost(self):\n",
    "        return np.sum(self.link_time*self.link_flow)"
   ]
  },
  {
   "cell_type": "code",
   "execution_count": null,
   "id": "several-proceeding",
   "metadata": {
    "execution": {
     "iopub.execute_input": "2021-10-26T17:03:51.516822Z",
     "iopub.status.busy": "2021-10-26T17:03:51.516646Z",
     "iopub.status.idle": "2021-10-26T17:03:51.698319Z",
     "shell.execute_reply": "2021-10-26T17:03:51.697855Z",
     "shell.execute_reply.started": "2021-10-26T17:03:51.516803Z"
    }
   },
   "outputs": [],
   "source": [
    "G,beta,alpha,capacity,fftt=create_network('network_data/network.csv')\n",
    "print(len(G.edges))\n",
    "print(len(beta),len(alpha),len(capacity),len(fftt))\n",
    "\n",
    "pos=nx.spectral_layout(G) \n",
    "nx.draw(G,pos,with_labels=True,node_size=100,node_color='r',font_size=20,arrowsize=20) #visualize layout"
   ]
  },
  {
   "cell_type": "code",
   "execution_count": null,
   "id": "driven-flash",
   "metadata": {
    "execution": {
     "iopub.execute_input": "2021-10-26T17:08:16.830343Z",
     "iopub.status.busy": "2021-10-26T17:08:16.830077Z",
     "iopub.status.idle": "2021-10-26T17:08:16.893098Z",
     "shell.execute_reply": "2021-10-26T17:08:16.890745Z",
     "shell.execute_reply.started": "2021-10-26T17:08:16.830319Z"
    }
   },
   "outputs": [],
   "source": [
    "ods=[['N002','N003'],['N005','N009']]\n",
    "ods_demand=[1000,2000]\n",
    "model=TA(G,ods,ods_demand,beta,alpha,fftt,capacity)\n",
    "\n",
    "gaps_MSA=[]\n",
    "iterations=[]\n",
    "for it in range(100):\n",
    "    gap=model.step_MSA()\n",
    "    if it%10==0:\n",
    "        gaps_MSA.append(gap)\n",
    "        iterations.append(model.iteration)\n",
    "        \n",
    "ods=[['N002','N003'],['N005','N009']]\n",
    "ods_demand=[1000,2000]\n",
    "model=TA(G,ods,ods_demand,beta,alpha,fftt,capacity)\n",
    "gaps_FW=[]\n",
    "iterations=[]\n",
    "for it in range(100):\n",
    "    gap=model.step_FW()\n",
    "    if it%10==0:\n",
    "        gaps_FW.append(gap)\n",
    "        iterations.append(model.iteration)"
   ]
  },
  {
   "cell_type": "code",
   "execution_count": null,
   "id": "virtual-implementation",
   "metadata": {
    "execution": {
     "iopub.execute_input": "2021-10-26T17:08:20.665269Z",
     "iopub.status.busy": "2021-10-26T17:08:20.665053Z",
     "iopub.status.idle": "2021-10-26T17:08:20.990462Z",
     "shell.execute_reply": "2021-10-26T17:08:20.989853Z",
     "shell.execute_reply.started": "2021-10-26T17:08:20.665251Z"
    }
   },
   "outputs": [],
   "source": [
    "fig,ax=plt.subplots(figsize=(6,4))\n",
    "ax.plot(iterations,gaps_FW,label='FW')\n",
    "ax.plot(iterations,gaps_MSA,label='MSA')\n",
    "ax.set_yscale('log')\n",
    "ax.set_xlabel('Iteration')\n",
    "ax.set_ylabel('Relative Gap')\n",
    "ax.legend()"
   ]
  },
  {
   "cell_type": "code",
   "execution_count": null,
   "id": "concrete-adoption",
   "metadata": {
    "execution": {
     "iopub.execute_input": "2021-10-26T00:43:21.188080Z",
     "iopub.status.busy": "2021-10-26T00:43:21.187869Z",
     "iopub.status.idle": "2021-10-26T00:43:21.458638Z",
     "shell.execute_reply": "2021-10-26T00:43:21.458049Z",
     "shell.execute_reply.started": "2021-10-26T00:43:21.188063Z"
    }
   },
   "outputs": [],
   "source": [
    "print(model.link_flow)\n",
    "fig,ax=plt.subplots(figsize=(15,15))\n",
    "pos=nx.spectral_layout(model.G) \n",
    "nx.draw(model.G,pos,with_labels=True)\n",
    "\n",
    "node_labels = nx.get_node_attributes(model.G,'name')\n",
    "nx.draw_networkx_labels(G, pos, labels = node_labels)\n",
    "edge_labels = nx.get_edge_attributes(G,'travel_flow')\n",
    "nx.draw_networkx_edge_labels(G, pos, edge_labels)"
   ]
  },
  {
   "cell_type": "code",
   "execution_count": null,
   "id": "finished-recruitment",
   "metadata": {
    "execution": {
     "iopub.execute_input": "2021-10-26T00:44:24.852168Z",
     "iopub.status.busy": "2021-10-26T00:44:24.851957Z",
     "iopub.status.idle": "2021-10-26T00:44:24.860520Z",
     "shell.execute_reply": "2021-10-26T00:44:24.859662Z",
     "shell.execute_reply.started": "2021-10-26T00:44:24.852150Z"
    }
   },
   "outputs": [],
   "source": [
    "#bisection  f=1+3x\n",
    "def fun(x1,x2,lbd):\n",
    "    x=(1-lbd)*x1+lbd*x2\n",
    "    z=(1+3*x)@(x2-x1)\n",
    "    return z\n",
    "lbd=0.3\n",
    "x1=np.array([2,3])\n",
    "x2=np.array([3,2])\n",
    "fun(x1,x2,lbd)"
   ]
  },
  {
   "cell_type": "code",
   "execution_count": null,
   "id": "explicit-athletics",
   "metadata": {
    "execution": {
     "iopub.execute_input": "2021-10-26T00:45:00.254657Z",
     "iopub.status.busy": "2021-10-26T00:45:00.254420Z",
     "iopub.status.idle": "2021-10-26T00:45:00.258721Z",
     "shell.execute_reply": "2021-10-26T00:45:00.258032Z",
     "shell.execute_reply.started": "2021-10-26T00:45:00.254618Z"
    }
   },
   "outputs": [],
   "source": [
    "def bisect(x1,x2,a,b,eps=1e-3):\n",
    "    if abs(a-b)<1e-3:\n",
    "        return abs(b-a)/2\n",
    "    else:\n",
    "        print(a,b)\n",
    "        f1=fun(x1,x2,a)\n",
    "        f2=fun(x1,x2,b)\n",
    "        c=a+(b-a)/2\n",
    "        print(c)\n",
    "        f3=fun(x1,x2,c)\n",
    "        if f3>0:\n",
    "            a=c\n",
    "        else:\n",
    "            b=c\n",
    "        return bisect(x1,x2,a,b)"
   ]
  },
  {
   "cell_type": "code",
   "execution_count": null,
   "id": "secret-baseball",
   "metadata": {
    "execution": {
     "iopub.execute_input": "2021-10-26T00:45:21.022418Z",
     "iopub.status.busy": "2021-10-26T00:45:21.022245Z",
     "iopub.status.idle": "2021-10-26T00:45:21.026789Z",
     "shell.execute_reply": "2021-10-26T00:45:21.026213Z",
     "shell.execute_reply.started": "2021-10-26T00:45:21.022400Z"
    }
   },
   "outputs": [],
   "source": [
    "lbda=bisect(x1,x2,0,1)"
   ]
  }
 ],
 "metadata": {
  "kernelspec": {
   "display_name": "Python 3",
   "language": "python",
   "name": "python3"
  },
  "language_info": {
   "codemirror_mode": {
    "name": "ipython",
    "version": 3
   },
   "file_extension": ".py",
   "mimetype": "text/x-python",
   "name": "python",
   "nbconvert_exporter": "python",
   "pygments_lexer": "ipython3",
   "version": "3.8.2"
  }
 },
 "nbformat": 4,
 "nbformat_minor": 5
}
